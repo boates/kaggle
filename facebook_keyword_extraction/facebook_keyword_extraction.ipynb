{
 "metadata": {
  "name": "facebook_keyword_extraction"
 },
 "nbformat": 3,
 "nbformat_minor": 0,
 "worksheets": [
  {
   "cells": [
    {
     "cell_type": "code",
     "collapsed": false,
     "input": [
      "import numpy as np\n",
      "import pandas as pd\n",
      "import matplotlib.pyplot as plt\n",
      "from collections import defaultdict\n",
      "import time\n",
      "import nltk\n",
      "import re\n",
      "import heapq\n",
      "\n",
      "from sklearn.ensemble import RandomForestClassifier\n",
      "from sklearn.svm import SVC\n",
      "from sklearn.linear_model import LogisticRegression\n",
      "from sklearn.naive_bayes import GaussianNB"
     ],
     "language": "python",
     "metadata": {},
     "outputs": [],
     "prompt_number": 33
    },
    {
     "cell_type": "code",
     "collapsed": false,
     "input": [
      "STOPWORDS = nltk.corpus.stopwords.words('english')\n",
      "STEMMER = nltk.stem.snowball.EnglishStemmer()\n",
      "\n",
      "def stopwords():\n",
      "    return nltk.corpus.stopwords.words('english')\n",
      "\n",
      "def is_word(word):\n",
      "    return nltk.corpus.wordnet.synsets(word)\n",
      "\n",
      "def clean_title(title):\n",
      "    title = ' '+title.lower()+' '                    # lower case\n",
      "    title = re.sub(r'\\s+', ' ', title)               # convert all whitespaces to single space\n",
      "    title = re.sub(r'\\'', '', title)                 # remove apostrophes\n",
      "    title = re.sub(r'[^A-Za-z\\s\\+\\#-]+', ' ', title) # remove numbers and most punctuation\n",
      "    return title\n",
      "\n",
      "def clean_body(body):\n",
      "    body = ' '+body.lower()+' '                    # lower case\n",
      "    body = re.sub(r'\\s+', ' ', body)               # convert all whitespaces to single space\n",
      "    body = re.sub(r'<\\w+>', ' ', body)             # remove html tags\n",
      "    body = re.sub(r'\\'', '', body)                 # remove apostrophes\n",
      "    body = re.sub(r'[^A-Za-z\\s\\+\\#]+', ' ', body)  # remove numbers and most punctuation\n",
      "    body = re.sub(r'\\s\\S\\s', ' ', ' '+body+' ')    # remove single character words\n",
      "    body = re.sub(r'\\s\\S\\s', ' ', ' '+body+' ')    # remove single character words\n",
      "    body = re.sub(r'\\s\\S\\S\\s', ' ', ' '+body+' ')  # remove two-character words\n",
      "    return body\n",
      "\n",
      "def convert_string_to_word_list(string):\n",
      "    return [str(STEMMER.stem(word)) for word in string.split() if word not in STOPWORDS]\n",
      "    \n",
      "def get_bigrams(word_list):\n",
      "    bigrams = []\n",
      "    for i in range(len(word_list)-1):\n",
      "        bigrams.append(word_list[i]+'-'+word_list[i+1])\n",
      "    return bigrams\n",
      "\n",
      "def prep_title(title):\n",
      "    title = clean_title(title)\n",
      "    word_list = convert_string_to_word_list(title)\n",
      "    return word_list\n",
      "\n",
      "def prep_body(body):\n",
      "    body = clean_body(body)\n",
      "    word_list = convert_string_to_word_list(body)\n",
      "    return word_list"
     ],
     "language": "python",
     "metadata": {},
     "outputs": [],
     "prompt_number": 3
    },
    {
     "cell_type": "code",
     "collapsed": false,
     "input": [
      "df = pd.read_csv('data/train_small.csv')\n",
      "\n",
      "#df['title_words'] = df['Title'].map(prep_title)\n",
      "df['body_words'] = df['Body'].map(prep_body)\n",
      "#df['title_bigrams'] = df['title_words'].map(get_bigrams)\n",
      "#df['body_bigrams'] = df['body_words'].map(get_bigrams)\n",
      "\n",
      "print df.shape\n",
      "print df.columns"
     ],
     "language": "python",
     "metadata": {},
     "outputs": [
      {
       "output_type": "stream",
       "stream": "stdout",
       "text": [
        "(4109, 5)\n",
        "Index([Id, Title, Body, Tags, body_words], dtype=object)\n"
       ]
      }
     ],
     "prompt_number": 4
    },
    {
     "cell_type": "code",
     "collapsed": false,
     "input": [
      "all_tags = defaultdict(int)\n",
      "all_title_words = defaultdict(int)\n",
      "all_body_words = defaultdict(int)\n",
      "tag_title_words = defaultdict(dict)\n",
      "tag_body_words = defaultdict(dict)\n",
      "\n",
      "tw_new, bw_new, tags_new = [], [], []\n",
      "\n",
      "for i in range(len(df)):\n",
      "#    title_words = df['title_words'].iloc[i]\n",
      "    body_words = df['body_words'].iloc[i]\n",
      "    tags = df['Tags'].iloc[i].split()\n",
      "    for tag in tags:\n",
      "        all_tags[tag] += 1\n",
      "#        for title_word in title_words:\n",
      "#            all_title_words[title_word] += 1\n",
      "#            try:\n",
      "#                tag_title_words[tag][title_word] += 1\n",
      "#            except KeyError:\n",
      "#                tag_title_words[tag][title_word] = 1\n",
      "        for body_word in body_words:\n",
      "            all_body_words[body_word] += 1\n",
      "            try:\n",
      "                tag_body_words[tag][body_word] += 1\n",
      "            except KeyError:\n",
      "                tag_body_words[tag][body_word] = 1\n",
      "#        tw_new.append(title_words)\n",
      "        bw_new.append(body_words)\n",
      "        tags_new.append(tag)\n",
      "        \n",
      "df_new = pd.DataFrame(index=range(len(tags_new)))\n",
      "#df_new['title_words'] = tw_new\n",
      "df_new['body_words'] = bw_new\n",
      "df_new['tag'] = tags_new\n",
      "\n",
      "#print all_title_words\n",
      "all_relevance = []\n",
      "\"\"\"\n",
      "# get the most descriptive title words for each tag ---> still need to do for body\n",
      "title_words_to_keep = []\n",
      "num_title_words_to_keep = 5\n",
      "for tag, title_words in tag_title_words.iteritems():\n",
      "    for title_word in title_words:\n",
      "\n",
      "        relevance = tag_title_words[tag][title_word] / float(all_title_words[title_word])\n",
      "        tag_title_words[tag][title_word] = relevance\n",
      "        all_relevance.append(relevance)\n",
      "        if relevance > 0.10 and relevance < 0.90:\n",
      "            title_words_to_keep.append(title_word)\n",
      "\"\"\"\n",
      "\n",
      "body_words_to_keep = []\n",
      "num_body_words_to_keep = 5\n",
      "for tag, body_words in tag_body_words.iteritems():\n",
      "    \n",
      "    if all_tags[tag] > 1:\n",
      "        \n",
      "        h = []\n",
      "        for body_word in body_words:\n",
      "\n",
      "            relevance = tag_body_words[tag][body_word] / float(all_body_words[body_word])\n",
      "            tag_body_words[tag][body_word] = relevance\n",
      "\n",
      "#            all_relevance.append(relevance)\n",
      "            if relevance > 0.1 and relevance < 0.99 and all_body_words[body_word] > 10:\n",
      "                heapq.heappush(h, (relevance, body_word))\n",
      "        \n",
      "        words_to_keep = heapq.nlargest(num_body_words_to_keep, h)\n",
      "#        print words_to_keep\n",
      "        body_words_to_keep += [w for r, w in words_to_keep]\n",
      "\n",
      "\n",
      "body_words_to_keep = list(set(body_words_to_keep))\n",
      "print len(body_words_to_keep)\n",
      "print len(all_tags)\n",
      "#print title_words_to_keep"
     ],
     "language": "python",
     "metadata": {},
     "outputs": [
      {
       "output_type": "stream",
       "stream": "stdout",
       "text": [
        "2600\n",
        "3589\n"
       ]
      }
     ],
     "prompt_number": 70
    },
    {
     "cell_type": "code",
     "collapsed": false,
     "input": [
      "tag_to_idx = {}\n",
      "idx_to_tag = {}\n",
      "for idx, tag in enumerate(all_tags):\n",
      "    tag_to_idx[tag] = idx\n",
      "    idx_to_tag[idx] = tag"
     ],
     "language": "python",
     "metadata": {},
     "outputs": [],
     "prompt_number": 58
    },
    {
     "cell_type": "code",
     "collapsed": false,
     "input": [
      "# build title word feature matrix\n",
      "# for each title: number of times word appears in title / number of time word appears in corpus\n",
      "title_features = {word:np.zeros(len(df_new)) for word in title_words_to_keep}\n",
      "#headers = [\n",
      "#title_features = pd.DataFrame(columns=[])\n",
      "#tags\n",
      "print df.shape\n",
      "all_rows = []\n",
      "for i in range(len(df_new)):\n",
      "    for title_word in df_new['title_words'].iloc[i]:\n",
      "        try:\n",
      "            title_features[title_word][i] += 1. #/ all_title_words[title_word]\n",
      "        except KeyError:\n",
      "            pass\n",
      "\n",
      "title_features = pd.DataFrame(title_features)\n",
      "title_features.shape\n"
     ],
     "language": "python",
     "metadata": {},
     "outputs": [
      {
       "ename": "NameError",
       "evalue": "name 'title_words_to_keep' is not defined",
       "output_type": "pyerr",
       "traceback": [
        "\u001b[0;31m---------------------------------------------------------------------------\u001b[0m\n\u001b[0;31mNameError\u001b[0m                                 Traceback (most recent call last)",
        "\u001b[0;32m<ipython-input-22-a08a57db750a>\u001b[0m in \u001b[0;36m<module>\u001b[0;34m()\u001b[0m\n\u001b[1;32m      1\u001b[0m \u001b[0;31m# build title word feature matrix\u001b[0m\u001b[0;34m\u001b[0m\u001b[0;34m\u001b[0m\u001b[0m\n\u001b[1;32m      2\u001b[0m \u001b[0;31m# for each title: number of times word appears in title / number of time word appears in corpus\u001b[0m\u001b[0;34m\u001b[0m\u001b[0;34m\u001b[0m\u001b[0m\n\u001b[0;32m----> 3\u001b[0;31m \u001b[0mtitle_features\u001b[0m \u001b[0;34m=\u001b[0m \u001b[0;34m{\u001b[0m\u001b[0mword\u001b[0m\u001b[0;34m:\u001b[0m\u001b[0mnp\u001b[0m\u001b[0;34m.\u001b[0m\u001b[0mzeros\u001b[0m\u001b[0;34m(\u001b[0m\u001b[0mlen\u001b[0m\u001b[0;34m(\u001b[0m\u001b[0mdf_new\u001b[0m\u001b[0;34m)\u001b[0m\u001b[0;34m)\u001b[0m \u001b[0;32mfor\u001b[0m \u001b[0mword\u001b[0m \u001b[0;32min\u001b[0m \u001b[0mtitle_words_to_keep\u001b[0m\u001b[0;34m}\u001b[0m\u001b[0;34m\u001b[0m\u001b[0m\n\u001b[0m\u001b[1;32m      4\u001b[0m \u001b[0;31m#headers = [\u001b[0m\u001b[0;34m\u001b[0m\u001b[0;34m\u001b[0m\u001b[0m\n\u001b[1;32m      5\u001b[0m \u001b[0;31m#title_features = pd.DataFrame(columns=[])\u001b[0m\u001b[0;34m\u001b[0m\u001b[0;34m\u001b[0m\u001b[0m\n",
        "\u001b[0;31mNameError\u001b[0m: name 'title_words_to_keep' is not defined"
       ]
      }
     ],
     "prompt_number": 22
    },
    {
     "cell_type": "code",
     "collapsed": false,
     "input": [
      "# build body word feature matrix\n",
      "\n",
      "body_features = {word:np.zeros(len(df_new)) for word in body_words_to_keep}\n",
      "\n",
      "print df.shape\n",
      "all_rows = []\n",
      "for i in range(len(df_new)):\n",
      "    for body_word in df_new['body_words'].iloc[i]:\n",
      "        try:\n",
      "            body_features[body_word][i] += 1.\n",
      "        except KeyError:\n",
      "            pass\n",
      "\n",
      "body_features = pd.DataFrame(body_features)\n",
      "body_features.shape\n"
     ],
     "language": "python",
     "metadata": {},
     "outputs": [
      {
       "output_type": "stream",
       "stream": "stdout",
       "text": [
        "(4109, 5)\n"
       ]
      },
      {
       "output_type": "pyout",
       "prompt_number": 59,
       "text": [
        "(11947, 7414)"
       ]
      }
     ],
     "prompt_number": 59
    },
    {
     "cell_type": "code",
     "collapsed": false,
     "input": [
      "#classifier = RandomForestClassifier(n_estimators=10, max_depth=10, criterion='entropy', min_samples_split=10, max_features='auto')\n",
      "classifier = GaussianNB()\n",
      "#classifier = SVC()\n",
      "#classifier = LogisticRegression()\n",
      "\n",
      "N = len(df_new)\n",
      "SPLIT_FRAC = 0.7\n",
      "SPLIT_IDX = int(N*SPLIT_FRAC)\n",
      "\n",
      "tag_idx = [tag_to_idx[tag] for tag in df_new['tag']]\n",
      "\n",
      "#train_features = title_features.values[:SPLIT_IDX]\n",
      "train_features = body_features.values[:SPLIT_IDX]\n",
      "train_target = tag_idx[:SPLIT_IDX]\n",
      "#test_features = title_features.values[SPLIT_IDX:]\n",
      "test_features = body_features.values[SPLIT_IDX:]\n",
      "test_target = tag_idx[SPLIT_IDX:]\n",
      "\n",
      "classifier.fit(train_features, train_target)\n"
     ],
     "language": "python",
     "metadata": {},
     "outputs": [
      {
       "output_type": "pyout",
       "prompt_number": 60,
       "text": [
        "GaussianNB()"
       ]
      }
     ],
     "prompt_number": 60
    },
    {
     "cell_type": "code",
     "collapsed": false,
     "input": [
      "predictions = classifier.predict_proba(test_features[:100])"
     ],
     "language": "python",
     "metadata": {},
     "outputs": [],
     "prompt_number": 45
    },
    {
     "cell_type": "code",
     "collapsed": false,
     "input": [
      "c = 0\n",
      "for i in range(len(test_features)):\n",
      "#for pvec in predictions:\n",
      "    pvec = classifier.predict_proba(test_features[i])[0]\n",
      "    nonzero = []\n",
      "    for i, p in enumerate(pvec):\n",
      "        if p > 0:\n",
      "            nonzero.append(idx_to_tag[i])\n",
      "    if test_target[c] in nonzero:\n",
      "        print c, 'Yay!'\n",
      "    else:\n",
      "        print c, 'Fuck.'\n",
      "    c += 1"
     ],
     "language": "python",
     "metadata": {},
     "outputs": [
      {
       "output_type": "stream",
       "stream": "stdout",
       "text": [
        "0 Fuck.\n",
        "1"
       ]
      },
      {
       "output_type": "stream",
       "stream": "stdout",
       "text": [
        " Fuck.\n",
        "2"
       ]
      },
      {
       "output_type": "stream",
       "stream": "stdout",
       "text": [
        " Fuck.\n",
        "3"
       ]
      },
      {
       "output_type": "stream",
       "stream": "stdout",
       "text": [
        " Fuck.\n",
        "4"
       ]
      },
      {
       "output_type": "stream",
       "stream": "stdout",
       "text": [
        " Fuck.\n",
        "5"
       ]
      },
      {
       "output_type": "stream",
       "stream": "stdout",
       "text": [
        " Fuck.\n",
        "6"
       ]
      },
      {
       "output_type": "stream",
       "stream": "stdout",
       "text": [
        " Fuck.\n",
        "7"
       ]
      },
      {
       "output_type": "stream",
       "stream": "stdout",
       "text": [
        " Fuck.\n",
        "8"
       ]
      },
      {
       "output_type": "stream",
       "stream": "stdout",
       "text": [
        " Fuck.\n",
        "9"
       ]
      },
      {
       "output_type": "stream",
       "stream": "stdout",
       "text": [
        " Fuck.\n",
        "10"
       ]
      },
      {
       "ename": "KeyboardInterrupt",
       "evalue": "",
       "output_type": "pyerr",
       "traceback": [
        "\u001b[0;31m---------------------------------------------------------------------------\u001b[0m\n\u001b[0;31mKeyboardInterrupt\u001b[0m                         Traceback (most recent call last)",
        "\u001b[0;32m<ipython-input-61-2cdefa2b85c8>\u001b[0m in \u001b[0;36m<module>\u001b[0;34m()\u001b[0m\n\u001b[1;32m      2\u001b[0m \u001b[0;32mfor\u001b[0m \u001b[0mi\u001b[0m \u001b[0;32min\u001b[0m \u001b[0mrange\u001b[0m\u001b[0;34m(\u001b[0m\u001b[0mlen\u001b[0m\u001b[0;34m(\u001b[0m\u001b[0mtest_features\u001b[0m\u001b[0;34m)\u001b[0m\u001b[0;34m)\u001b[0m\u001b[0;34m:\u001b[0m\u001b[0;34m\u001b[0m\u001b[0m\n\u001b[1;32m      3\u001b[0m \u001b[0;31m#for pvec in predictions:\u001b[0m\u001b[0;34m\u001b[0m\u001b[0;34m\u001b[0m\u001b[0m\n\u001b[0;32m----> 4\u001b[0;31m     \u001b[0mpvec\u001b[0m \u001b[0;34m=\u001b[0m \u001b[0mclassifier\u001b[0m\u001b[0;34m.\u001b[0m\u001b[0mpredict_proba\u001b[0m\u001b[0;34m(\u001b[0m\u001b[0mtest_features\u001b[0m\u001b[0;34m[\u001b[0m\u001b[0mi\u001b[0m\u001b[0;34m]\u001b[0m\u001b[0;34m)\u001b[0m\u001b[0;34m[\u001b[0m\u001b[0;36m0\u001b[0m\u001b[0;34m]\u001b[0m\u001b[0;34m\u001b[0m\u001b[0m\n\u001b[0m\u001b[1;32m      5\u001b[0m     \u001b[0mnonzero\u001b[0m \u001b[0;34m=\u001b[0m \u001b[0;34m[\u001b[0m\u001b[0;34m]\u001b[0m\u001b[0;34m\u001b[0m\u001b[0m\n\u001b[1;32m      6\u001b[0m     \u001b[0;32mfor\u001b[0m \u001b[0mi\u001b[0m\u001b[0;34m,\u001b[0m \u001b[0mp\u001b[0m \u001b[0;32min\u001b[0m \u001b[0menumerate\u001b[0m\u001b[0;34m(\u001b[0m\u001b[0mpvec\u001b[0m\u001b[0;34m)\u001b[0m\u001b[0;34m:\u001b[0m\u001b[0;34m\u001b[0m\u001b[0m\n",
        "\u001b[0;32m/Users/boates/development/venv/lib/python2.7/site-packages/sklearn/naive_bayes.pyc\u001b[0m in \u001b[0;36mpredict_proba\u001b[0;34m(self, X)\u001b[0m\n\u001b[1;32m     96\u001b[0m             \u001b[0mthe\u001b[0m \u001b[0mmodel\u001b[0m\u001b[0;34m,\u001b[0m \u001b[0mwhere\u001b[0m \u001b[0mclasses\u001b[0m \u001b[0mare\u001b[0m \u001b[0mordered\u001b[0m \u001b[0marithmetically\u001b[0m\u001b[0;34m.\u001b[0m\u001b[0;34m\u001b[0m\u001b[0m\n\u001b[1;32m     97\u001b[0m         \"\"\"\n\u001b[0;32m---> 98\u001b[0;31m         \u001b[0;32mreturn\u001b[0m \u001b[0mnp\u001b[0m\u001b[0;34m.\u001b[0m\u001b[0mexp\u001b[0m\u001b[0;34m(\u001b[0m\u001b[0mself\u001b[0m\u001b[0;34m.\u001b[0m\u001b[0mpredict_log_proba\u001b[0m\u001b[0;34m(\u001b[0m\u001b[0mX\u001b[0m\u001b[0;34m)\u001b[0m\u001b[0;34m)\u001b[0m\u001b[0;34m\u001b[0m\u001b[0m\n\u001b[0m\u001b[1;32m     99\u001b[0m \u001b[0;34m\u001b[0m\u001b[0m\n\u001b[1;32m    100\u001b[0m \u001b[0;34m\u001b[0m\u001b[0m\n",
        "\u001b[0;32m/Users/boates/development/venv/lib/python2.7/site-packages/sklearn/naive_bayes.pyc\u001b[0m in \u001b[0;36mpredict_log_proba\u001b[0;34m(self, X)\u001b[0m\n\u001b[1;32m     77\u001b[0m             \u001b[0;32min\u001b[0m \u001b[0mthe\u001b[0m \u001b[0mmodel\u001b[0m\u001b[0;34m,\u001b[0m \u001b[0mwhere\u001b[0m \u001b[0mclasses\u001b[0m \u001b[0mare\u001b[0m \u001b[0mordered\u001b[0m \u001b[0marithmetically\u001b[0m\u001b[0;34m.\u001b[0m\u001b[0;34m\u001b[0m\u001b[0m\n\u001b[1;32m     78\u001b[0m         \"\"\"\n\u001b[0;32m---> 79\u001b[0;31m         \u001b[0mjll\u001b[0m \u001b[0;34m=\u001b[0m \u001b[0mself\u001b[0m\u001b[0;34m.\u001b[0m\u001b[0m_joint_log_likelihood\u001b[0m\u001b[0;34m(\u001b[0m\u001b[0mX\u001b[0m\u001b[0;34m)\u001b[0m\u001b[0;34m\u001b[0m\u001b[0m\n\u001b[0m\u001b[1;32m     80\u001b[0m         \u001b[0;31m# normalize by P(x) = P(f_1, ..., f_n)\u001b[0m\u001b[0;34m\u001b[0m\u001b[0;34m\u001b[0m\u001b[0m\n\u001b[1;32m     81\u001b[0m         \u001b[0mlog_prob_x\u001b[0m \u001b[0;34m=\u001b[0m \u001b[0mlogsumexp\u001b[0m\u001b[0;34m(\u001b[0m\u001b[0mjll\u001b[0m\u001b[0;34m,\u001b[0m \u001b[0maxis\u001b[0m\u001b[0;34m=\u001b[0m\u001b[0;36m1\u001b[0m\u001b[0;34m)\u001b[0m\u001b[0;34m\u001b[0m\u001b[0m\n",
        "\u001b[0;32m/Users/boates/development/venv/lib/python2.7/site-packages/sklearn/naive_bayes.pyc\u001b[0m in \u001b[0;36m_joint_log_likelihood\u001b[0;34m(self, X)\u001b[0m\n\u001b[1;32m    179\u001b[0m         \u001b[0;32mfor\u001b[0m \u001b[0mi\u001b[0m \u001b[0;32min\u001b[0m \u001b[0mxrange\u001b[0m\u001b[0;34m(\u001b[0m\u001b[0mnp\u001b[0m\u001b[0;34m.\u001b[0m\u001b[0msize\u001b[0m\u001b[0;34m(\u001b[0m\u001b[0mself\u001b[0m\u001b[0;34m.\u001b[0m\u001b[0mclasses_\u001b[0m\u001b[0;34m)\u001b[0m\u001b[0;34m)\u001b[0m\u001b[0;34m:\u001b[0m\u001b[0;34m\u001b[0m\u001b[0m\n\u001b[1;32m    180\u001b[0m             \u001b[0mjointi\u001b[0m \u001b[0;34m=\u001b[0m \u001b[0mnp\u001b[0m\u001b[0;34m.\u001b[0m\u001b[0mlog\u001b[0m\u001b[0;34m(\u001b[0m\u001b[0mself\u001b[0m\u001b[0;34m.\u001b[0m\u001b[0mclass_prior_\u001b[0m\u001b[0;34m[\u001b[0m\u001b[0mi\u001b[0m\u001b[0;34m]\u001b[0m\u001b[0;34m)\u001b[0m\u001b[0;34m\u001b[0m\u001b[0m\n\u001b[0;32m--> 181\u001b[0;31m             \u001b[0mn_ij\u001b[0m \u001b[0;34m=\u001b[0m \u001b[0;34m-\u001b[0m \u001b[0;36m0.5\u001b[0m \u001b[0;34m*\u001b[0m \u001b[0mnp\u001b[0m\u001b[0;34m.\u001b[0m\u001b[0msum\u001b[0m\u001b[0;34m(\u001b[0m\u001b[0mnp\u001b[0m\u001b[0;34m.\u001b[0m\u001b[0mlog\u001b[0m\u001b[0;34m(\u001b[0m\u001b[0mnp\u001b[0m\u001b[0;34m.\u001b[0m\u001b[0mpi\u001b[0m \u001b[0;34m*\u001b[0m \u001b[0mself\u001b[0m\u001b[0;34m.\u001b[0m\u001b[0msigma_\u001b[0m\u001b[0;34m[\u001b[0m\u001b[0mi\u001b[0m\u001b[0;34m,\u001b[0m \u001b[0;34m:\u001b[0m\u001b[0;34m]\u001b[0m\u001b[0;34m)\u001b[0m\u001b[0;34m)\u001b[0m\u001b[0;34m\u001b[0m\u001b[0m\n\u001b[0m\u001b[1;32m    182\u001b[0m             n_ij -= 0.5 * np.sum(((X - self.theta_[i, :]) ** 2) /\n\u001b[1;32m    183\u001b[0m                                  (self.sigma_[i, :]), 1)\n",
        "\u001b[0;31mKeyboardInterrupt\u001b[0m: "
       ]
      },
      {
       "output_type": "stream",
       "stream": "stdout",
       "text": [
        " Fuck.\n"
       ]
      }
     ],
     "prompt_number": 61
    },
    {
     "cell_type": "code",
     "collapsed": false,
     "input": [
      "print test_target[29]"
     ],
     "language": "python",
     "metadata": {},
     "outputs": [
      {
       "output_type": "stream",
       "stream": "stdout",
       "text": [
        "eigenvectors\n"
       ]
      }
     ],
     "prompt_number": 73
    },
    {
     "cell_type": "code",
     "collapsed": false,
     "input": [
      "t0 = time.time()\n",
      "\n",
      "df = pd.read_csv('data/train.csv')\n",
      "tag_counts = defaultdict(int)\n",
      "for tags in df['Tags'].values:\n",
      "    for tag in tags.split():\n",
      "        tag_counts[tag] += 1\n",
      "\n",
      "print time.time() - t0"
     ],
     "language": "python",
     "metadata": {},
     "outputs": [],
     "prompt_number": 279
    },
    {
     "cell_type": "code",
     "collapsed": false,
     "input": [
      "fig = plt.figure(figsize=(12,7))\n",
      "p = plt.hist(np.log(np.array(all_relevance)), bins=100)"
     ],
     "language": "python",
     "metadata": {},
     "outputs": [
      {
       "output_type": "display_data",
       "png": "[encoded data removed]"
      }
     ],
     "prompt_number": 37
    },
    {
     "cell_type": "code",
     "collapsed": false,
     "input": [
      "print len(tag_counts.keys())\n",
      "print len([k for k in tag_counts.keys() if tag_counts[k] > 100])"
     ],
     "language": "python",
     "metadata": {},
     "outputs": [
      {
       "output_type": "stream",
       "stream": "stdout",
       "text": [
        "42048\n",
        "10138\n"
       ]
      }
     ],
     "prompt_number": 299
    },
    {
     "cell_type": "code",
     "collapsed": false,
     "input": [
      "np.exp(3.8)"
     ],
     "language": "python",
     "metadata": {},
     "outputs": [
      {
       "output_type": "pyout",
       "prompt_number": 297,
       "text": [
        "44.701184493300815"
       ]
      }
     ],
     "prompt_number": 297
    },
    {
     "cell_type": "code",
     "collapsed": false,
     "input": [],
     "language": "python",
     "metadata": {},
     "outputs": []
    }
   ],
   "metadata": {}
  }
 ]
}